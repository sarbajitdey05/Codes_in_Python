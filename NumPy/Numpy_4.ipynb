{
 "cells": [
  {
   "cell_type": "markdown",
   "id": "8046b2ac-579c-460d-91ee-5836a134949e",
   "metadata": {},
   "source": [
    "### Importing Numpy Library"
   ]
  },
  {
   "cell_type": "code",
   "execution_count": 1,
   "id": "e9a4774d-7bb0-4b75-bb55-efc8a107a262",
   "metadata": {},
   "outputs": [],
   "source": [
    "import numpy as np"
   ]
  },
  {
   "cell_type": "markdown",
   "id": "697989ea-10bb-45f0-9705-b71834c287bd",
   "metadata": {},
   "source": [
    "### Data types of Numpy array"
   ]
  },
  {
   "cell_type": "code",
   "execution_count": 3,
   "id": "7dfb9ea7-5d0c-4aa2-8902-a6dbb276b60e",
   "metadata": {},
   "outputs": [
    {
     "name": "stdout",
     "output_type": "stream",
     "text": [
      "The data type is:  int32\n"
     ]
    }
   ],
   "source": [
    "ar = np.array([3,7,4,8,9])\n",
    "print(\"The data type is: \", ar.dtype)"
   ]
  },
  {
   "cell_type": "code",
   "execution_count": 4,
   "id": "59fef1d0-0cc8-4503-a7e9-a71b134284fd",
   "metadata": {},
   "outputs": [
    {
     "name": "stdout",
     "output_type": "stream",
     "text": [
      "The data type is:  float64\n"
     ]
    }
   ],
   "source": [
    "ar1 = np.array([3.9, 7.8, 4.2, 8.1, 9.5])\n",
    "print(\"The data type is: \", ar1.dtype)"
   ]
  },
  {
   "cell_type": "code",
   "execution_count": 5,
   "id": "27c1dfb1-6c6e-4cc3-9778-d1e03d8f6529",
   "metadata": {},
   "outputs": [
    {
     "name": "stdout",
     "output_type": "stream",
     "text": [
      "The data type is:  <U1\n"
     ]
    }
   ],
   "source": [
    "ar2 = np.array(['S','A','B','T','Y'])\n",
    "print(\"The data type is: \", ar2.dtype)"
   ]
  },
  {
   "cell_type": "code",
   "execution_count": 7,
   "id": "591878b3-b2bb-4179-aca7-9851fe9fc88e",
   "metadata": {},
   "outputs": [
    {
     "name": "stdout",
     "output_type": "stream",
     "text": [
      "The data type is:  <U11\n"
     ]
    }
   ],
   "source": [
    "ar3 = np.array([1, 'David', 27])\n",
    "print(\"The data type is: \", ar3.dtype)"
   ]
  },
  {
   "cell_type": "markdown",
   "id": "37cbd164-7594-49b5-8a2c-8b990448276d",
   "metadata": {},
   "source": [
    "### Converting one data type to another"
   ]
  },
  {
   "cell_type": "code",
   "execution_count": 9,
   "id": "75e43937-4ad1-46bb-b703-adb655081b7c",
   "metadata": {},
   "outputs": [
    {
     "name": "stdout",
     "output_type": "stream",
     "text": [
      "The new data type is:  int8\n",
      "[3 7 4 8 9]\n"
     ]
    }
   ],
   "source": [
    "ar_new = np.array([3,7,4,8,9], dtype = np.int8)\n",
    "print(\"The new data type is: \", ar_new.dtype)\n",
    "print(ar_new)"
   ]
  },
  {
   "cell_type": "code",
   "execution_count": 10,
   "id": "d4e5648b-947d-4cfb-833e-c7b8a4bddcfe",
   "metadata": {},
   "outputs": [
    {
     "name": "stdout",
     "output_type": "stream",
     "text": [
      "The new data type is:  float32\n",
      "[3. 7. 4. 8. 9.]\n"
     ]
    }
   ],
   "source": [
    "ar_new1 = np.array([3,7,4,8,9], dtype = 'f')\n",
    "print(\"The new data type is: \", ar_new1.dtype)\n",
    "print(ar_new1)"
   ]
  },
  {
   "cell_type": "code",
   "execution_count": 13,
   "id": "c42755fa-b4b5-4619-b659-dcc1b2eaa360",
   "metadata": {},
   "outputs": [
    {
     "name": "stdout",
     "output_type": "stream",
     "text": [
      "Previous data type is: int32\n",
      "[2 3 4 5]\n",
      "New data type is: float32\n",
      "[2. 3. 4. 5.]\n"
     ]
    }
   ],
   "source": [
    "v = np.array([2,3,4,5])\n",
    "v_new = np.float32(v)\n",
    "\n",
    "print(\"Previous data type is:\", v.dtype)\n",
    "print(v)\n",
    "print(\"New data type is:\", v_new.dtype)\n",
    "print(v_new)"
   ]
  },
  {
   "cell_type": "markdown",
   "id": "61a25724-cebd-4888-aedb-1be81f7f589f",
   "metadata": {},
   "source": [
    "### Direct conversion using astype() function"
   ]
  },
  {
   "cell_type": "code",
   "execution_count": 15,
   "id": "92825a3c-5e99-4332-8891-a23275306852",
   "metadata": {},
   "outputs": [
    {
     "name": "stdout",
     "output_type": "stream",
     "text": [
      "Previous data type is: int32\n",
      "[2 3 4 5]\n",
      "New data type is: complex128\n",
      "[2.+0.j 3.+0.j 4.+0.j 5.+0.j]\n"
     ]
    }
   ],
   "source": [
    "var = np.array([2,3,4,5])\n",
    "New_var = var.astype(complex)\n",
    "\n",
    "print(\"Previous data type is:\", var.dtype)\n",
    "print(var)\n",
    "print(\"New data type is:\", New_var.dtype)\n",
    "print(New_var)"
   ]
  }
 ],
 "metadata": {
  "kernelspec": {
   "display_name": "Python 3 (ipykernel)",
   "language": "python",
   "name": "python3"
  },
  "language_info": {
   "codemirror_mode": {
    "name": "ipython",
    "version": 3
   },
   "file_extension": ".py",
   "mimetype": "text/x-python",
   "name": "python",
   "nbconvert_exporter": "python",
   "pygments_lexer": "ipython3",
   "version": "3.10.10"
  }
 },
 "nbformat": 4,
 "nbformat_minor": 5
}
