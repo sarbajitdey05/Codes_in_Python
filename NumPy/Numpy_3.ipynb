{
 "cells": [
  {
   "cell_type": "markdown",
   "id": "a24c73bf-d92e-4427-a646-7ac4cfc65e38",
   "metadata": {},
   "source": [
    "# Arrays with random numbers"
   ]
  },
  {
   "cell_type": "markdown",
   "id": "e9085129-0eb7-4fbc-b3d0-2982f90fe9c1",
   "metadata": {},
   "source": [
    "### Importing Numpy Library"
   ]
  },
  {
   "cell_type": "code",
   "execution_count": 1,
   "id": "113161bc-651a-407c-947a-c9fa6fd8f18d",
   "metadata": {},
   "outputs": [],
   "source": [
    "import numpy as np"
   ]
  },
  {
   "cell_type": "markdown",
   "id": "988171d3-4a60-4c46-beef-e5c9f93c43dc",
   "metadata": {},
   "source": [
    "### rand() function"
   ]
  },
  {
   "cell_type": "code",
   "execution_count": 5,
   "id": "943379a7-7e06-438a-bd65-e79e86d82333",
   "metadata": {},
   "outputs": [
    {
     "name": "stdout",
     "output_type": "stream",
     "text": [
      "[0.37666171 0.50534764 0.59574483 0.02604839 0.79022093]\n"
     ]
    }
   ],
   "source": [
    "var = np.random.rand(5)\n",
    "print(var)"
   ]
  },
  {
   "cell_type": "code",
   "execution_count": 6,
   "id": "83d0dd2a-5306-4b38-ba7a-d94695ca4366",
   "metadata": {},
   "outputs": [
    {
     "name": "stdout",
     "output_type": "stream",
     "text": [
      "[[0.49640612 0.00717191 0.04046985 0.58788184 0.33573918]\n",
      " [0.35163842 0.98715759 0.76799447 0.71199493 0.74342157]]\n"
     ]
    }
   ],
   "source": [
    "var1 = np.random.rand(2,5)\n",
    "print(var1)"
   ]
  },
  {
   "cell_type": "code",
   "execution_count": 7,
   "id": "b4a58c39-fa6b-49f2-b9c6-4c0174bb9c2f",
   "metadata": {},
   "outputs": [
    {
     "name": "stdout",
     "output_type": "stream",
     "text": [
      "[[[0.87051604 0.66665609]\n",
      "  [0.00822937 0.88947543]\n",
      "  [0.39098524 0.58068499]]\n",
      "\n",
      " [[0.80975038 0.83933614]\n",
      "  [0.83650309 0.79823331]\n",
      "  [0.66440524 0.35070099]]]\n"
     ]
    }
   ],
   "source": [
    "var2 = np.random.rand(2,3,2)\n",
    "print(var2)"
   ]
  },
  {
   "cell_type": "markdown",
   "id": "843c15cb-f218-499d-aa4f-f8de4db693ae",
   "metadata": {},
   "source": [
    "### randn() function"
   ]
  },
  {
   "cell_type": "code",
   "execution_count": 10,
   "id": "bd5e2858-3610-4bb8-a5ba-b4b8e5909d90",
   "metadata": {},
   "outputs": [
    {
     "name": "stdout",
     "output_type": "stream",
     "text": [
      "[ 1.69739409 -0.27068365 -0.50359792 -0.60396698 -0.26371552]\n"
     ]
    }
   ],
   "source": [
    "Var = np.random.randn(5)\n",
    "print(Var)"
   ]
  },
  {
   "cell_type": "code",
   "execution_count": 11,
   "id": "eff03bf0-ca02-4229-b102-f3f5bed209a4",
   "metadata": {},
   "outputs": [
    {
     "name": "stdout",
     "output_type": "stream",
     "text": [
      "[[ 0.25942749 -0.5801693   0.53338072 -0.21764586]\n",
      " [-1.40401704 -0.82336286 -0.42294977 -0.07462039]\n",
      " [-0.40780172 -0.13077675 -0.39043111  0.38926068]]\n"
     ]
    }
   ],
   "source": [
    "Var1 = np.random.randn(3,4)\n",
    "print(Var1)"
   ]
  },
  {
   "cell_type": "code",
   "execution_count": 15,
   "id": "9a20ed5d-4116-4edd-9ea0-9da76f970486",
   "metadata": {},
   "outputs": [
    {
     "name": "stdout",
     "output_type": "stream",
     "text": [
      "[[[-1.64628587  0.3236123  -2.41036028]\n",
      "  [ 0.16410171  0.51913355 -0.50057218]\n",
      "  [ 0.72552766 -1.33919478 -0.04455912]]\n",
      "\n",
      " [[-1.251155   -0.58435631 -1.21548952]\n",
      "  [ 0.64810829 -0.53171821 -0.11045925]\n",
      "  [ 0.15705388  0.82008495  1.49956625]]\n",
      "\n",
      " [[ 2.21301568 -1.36150333  1.28322756]\n",
      "  [ 0.96100579  0.18089603 -0.72813246]\n",
      "  [-1.20354577  0.95123724 -1.70554301]]]\n"
     ]
    }
   ],
   "source": [
    "Var2 = np.random.randn(3,3,3)\n",
    "print(Var2)"
   ]
  },
  {
   "cell_type": "markdown",
   "id": "8ee3506d-8187-4073-a69d-ea7931f3c5e4",
   "metadata": {},
   "source": [
    "### ranf() function"
   ]
  },
  {
   "cell_type": "code",
   "execution_count": 16,
   "id": "36859770-cf24-40c6-aa7b-1508f3f64536",
   "metadata": {},
   "outputs": [
    {
     "name": "stdout",
     "output_type": "stream",
     "text": [
      "[0.87023626 0.23538629 0.16018447 0.75335217]\n"
     ]
    }
   ],
   "source": [
    "v = np.random.ranf(4)\n",
    "print(v)"
   ]
  },
  {
   "cell_type": "code",
   "execution_count": 18,
   "id": "a43bfb3e-cfa5-4534-a8cf-3a0c54102515",
   "metadata": {},
   "outputs": [
    {
     "name": "stdout",
     "output_type": "stream",
     "text": [
      "[[0.36582285 0.70903738 0.45941671]\n",
      " [0.57200879 0.8407742  0.67144017]\n",
      " [0.48532242 0.73420664 0.40334614]\n",
      " [0.32201783 0.03322899 0.54966121]]\n"
     ]
    }
   ],
   "source": [
    "v1 = np.random.ranf((4,3))\n",
    "print(v1)"
   ]
  },
  {
   "cell_type": "markdown",
   "id": "5f7c1126-c72f-4884-ad28-4b31c24abca1",
   "metadata": {},
   "source": [
    "### randint() function"
   ]
  },
  {
   "cell_type": "code",
   "execution_count": 19,
   "id": "f43d3e21-3f27-4fea-90d6-6e055dd4b6f5",
   "metadata": {},
   "outputs": [
    {
     "name": "stdout",
     "output_type": "stream",
     "text": [
      "[10  7  6 21]\n"
     ]
    }
   ],
   "source": [
    "V = np.random.randint(5, 25, 4) # Min, Max, Total value\n",
    "print(V)"
   ]
  }
 ],
 "metadata": {
  "kernelspec": {
   "display_name": "Python 3 (ipykernel)",
   "language": "python",
   "name": "python3"
  },
  "language_info": {
   "codemirror_mode": {
    "name": "ipython",
    "version": 3
   },
   "file_extension": ".py",
   "mimetype": "text/x-python",
   "name": "python",
   "nbconvert_exporter": "python",
   "pygments_lexer": "ipython3",
   "version": "3.10.10"
  }
 },
 "nbformat": 4,
 "nbformat_minor": 5
}
