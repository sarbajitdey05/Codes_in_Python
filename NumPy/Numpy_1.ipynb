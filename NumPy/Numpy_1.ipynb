{
 "cells": [
  {
   "cell_type": "markdown",
   "id": "e774c1b4-f474-4991-9707-6182f986c0ba",
   "metadata": {},
   "source": [
    "### Importing Numpy Library"
   ]
  },
  {
   "cell_type": "code",
   "execution_count": 1,
   "id": "8e36aad4-d80f-4102-95fb-2ea3c65dd957",
   "metadata": {},
   "outputs": [],
   "source": [
    "import numpy as np"
   ]
  },
  {
   "cell_type": "markdown",
   "id": "2ef485f1-467a-4f5c-a5c2-fe0069e090da",
   "metadata": {},
   "source": [
    "### Difference between list and array"
   ]
  },
  {
   "cell_type": "code",
   "execution_count": 8,
   "id": "e0289637-a589-4a2e-b20d-d60bd343c9ce",
   "metadata": {},
   "outputs": [
    {
     "name": "stdout",
     "output_type": "stream",
     "text": [
      "[7, 2, 8, 3, 4, 9] The type is:  <class 'list'>\n"
     ]
    }
   ],
   "source": [
    "L = [7,2,8,3,4,9]\n",
    "print(L, \"The type is: \", type(L))"
   ]
  },
  {
   "cell_type": "code",
   "execution_count": 9,
   "id": "e3c07df3-a618-433c-89da-792b244b3f25",
   "metadata": {},
   "outputs": [
    {
     "name": "stdout",
     "output_type": "stream",
     "text": [
      "[7 2 8 3 4 9] The type is:  <class 'numpy.ndarray'>\n"
     ]
    }
   ],
   "source": [
    "ar = np.array([7,2,8,3,4,9])\n",
    "print(ar, \"The type is: \", type(ar))"
   ]
  },
  {
   "cell_type": "code",
   "execution_count": 10,
   "id": "df5f340c-7247-418b-b335-b868fd19383e",
   "metadata": {},
   "outputs": [
    {
     "name": "stdout",
     "output_type": "stream",
     "text": [
      "12.2 µs ± 446 ns per loop (mean ± std. dev. of 7 runs, 100,000 loops each)\n"
     ]
    }
   ],
   "source": [
    "%timeit [j**4 for j in range(1,9)] # Execution time of a list"
   ]
  },
  {
   "cell_type": "code",
   "execution_count": 11,
   "id": "212cadd0-ee6a-4953-8923-18f362b1403b",
   "metadata": {},
   "outputs": [
    {
     "name": "stdout",
     "output_type": "stream",
     "text": [
      "34.6 µs ± 605 ns per loop (mean ± std. dev. of 7 runs, 10,000 loops each)\n"
     ]
    }
   ],
   "source": [
    "%timeit np.arange(1,9)**4 # Execution time of an array"
   ]
  },
  {
   "cell_type": "markdown",
   "id": "ad200777-b06f-497a-9bf1-fcde5bf0efb1",
   "metadata": {},
   "source": [
    "### Creating array"
   ]
  },
  {
   "cell_type": "code",
   "execution_count": 14,
   "id": "2e1ca3fe-35b9-487d-8485-b1c96388a651",
   "metadata": {},
   "outputs": [
    {
     "name": "stdout",
     "output_type": "stream",
     "text": [
      "[5 6 7 8]\n",
      "<class 'numpy.ndarray'>\n"
     ]
    }
   ],
   "source": [
    "# From list to array\n",
    "y = [5,6,7,8]\n",
    "ar1 = np.array(y)\n",
    "\n",
    "print(ar1, type(ar1), sep='\\n')"
   ]
  },
  {
   "cell_type": "code",
   "execution_count": 16,
   "id": "1400f59c-25c7-486c-987f-0a306f8adb53",
   "metadata": {},
   "outputs": [
    {
     "name": "stdin",
     "output_type": "stream",
     "text": [
      "Enter a value: 7\n",
      "Enter a value: 4\n",
      "Enter a value: 8\n",
      "Enter a value: 3\n",
      "Enter a value: 5\n"
     ]
    },
    {
     "name": "stdout",
     "output_type": "stream",
     "text": [
      "[7, 4, 8, 3, 5]\n",
      "<class 'list'>\n",
      "[7 4 8 3 5]\n",
      "<class 'numpy.ndarray'>\n"
     ]
    }
   ],
   "source": [
    "# Take values from user and create an array\n",
    "L = []\n",
    "for i in range(5):\n",
    "    j = int(input(\"Enter a value:\"))\n",
    "    L.append(j)\n",
    "\n",
    "Arr = np.array(L)\n",
    "print(L, type(L), Arr, type(Arr), sep='\\n')"
   ]
  },
  {
   "cell_type": "markdown",
   "id": "c7249ca6-0785-4040-b5e3-b65664265aa8",
   "metadata": {},
   "source": [
    "### Checking dimension of array"
   ]
  },
  {
   "cell_type": "code",
   "execution_count": 27,
   "id": "17ed18b5-9330-4c2f-ba36-1abfd8f2f13c",
   "metadata": {},
   "outputs": [
    {
     "name": "stdout",
     "output_type": "stream",
     "text": [
      "[10 20 30 40]\n",
      "Dimension is: 1\n"
     ]
    }
   ],
   "source": [
    "A1 = np.array([10,20,30,40])\n",
    "print(A1)\n",
    "print(\"Dimension is:\",A1.ndim)"
   ]
  },
  {
   "cell_type": "code",
   "execution_count": 28,
   "id": "484e65d6-43f9-4c57-8650-a08dff6b5a33",
   "metadata": {},
   "outputs": [
    {
     "name": "stdout",
     "output_type": "stream",
     "text": [
      "[[10 20 30]\n",
      " [40 50 60]]\n",
      "Dimension is: 2\n"
     ]
    }
   ],
   "source": [
    "A2 = np.array([[10,20,30],[40,50,60]])\n",
    "print(A2)\n",
    "print(\"Dimension is:\",A2.ndim)"
   ]
  },
  {
   "cell_type": "code",
   "execution_count": 29,
   "id": "acd16a14-6cd6-4de0-be2e-bbfc60733397",
   "metadata": {},
   "outputs": [
    {
     "name": "stdout",
     "output_type": "stream",
     "text": [
      "[[[10 20 30]\n",
      "  [40 50 60]\n",
      "  [70 80 90]]]\n",
      "Dimension is: 3\n"
     ]
    }
   ],
   "source": [
    "A3 = np.array([[[10,20,30],[40,50,60],[70,80,90]]])\n",
    "print(A3)\n",
    "print(\"Dimension is:\",A3.ndim)"
   ]
  },
  {
   "cell_type": "code",
   "execution_count": 33,
   "id": "8e094b73-cb04-46fe-8a47-ea29d2e434ae",
   "metadata": {},
   "outputs": [
    {
     "name": "stdout",
     "output_type": "stream",
     "text": [
      "[[[[[[[4 3 5 9 7]]]]]]]\n",
      "Dimension is: 7\n"
     ]
    }
   ],
   "source": [
    "# Multidimensional array\n",
    "Ar = np.array([4,3,5,9,7], ndmin = 7)\n",
    "print(Ar)\n",
    "print(\"Dimension is:\", Ar.ndim)"
   ]
  }
 ],
 "metadata": {
  "kernelspec": {
   "display_name": "Python 3 (ipykernel)",
   "language": "python",
   "name": "python3"
  },
  "language_info": {
   "codemirror_mode": {
    "name": "ipython",
    "version": 3
   },
   "file_extension": ".py",
   "mimetype": "text/x-python",
   "name": "python",
   "nbconvert_exporter": "python",
   "pygments_lexer": "ipython3",
   "version": "3.10.10"
  }
 },
 "nbformat": 4,
 "nbformat_minor": 5
}
