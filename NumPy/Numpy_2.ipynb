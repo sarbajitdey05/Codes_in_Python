{
 "cells": [
  {
   "cell_type": "markdown",
   "id": "36dd7382-7009-4ea9-b51e-df1ccf867328",
   "metadata": {},
   "source": [
    "### Importing Numpy Library"
   ]
  },
  {
   "cell_type": "code",
   "execution_count": 1,
   "id": "dc9a389a-aac1-498b-8eca-5d29910e5fac",
   "metadata": {},
   "outputs": [],
   "source": [
    "import numpy as np"
   ]
  },
  {
   "cell_type": "markdown",
   "id": "4b305f37-f973-42a9-ae45-05537aeb5a5b",
   "metadata": {},
   "source": [
    "### Arrays filled with zeros"
   ]
  },
  {
   "cell_type": "code",
   "execution_count": 10,
   "id": "cddb6c36-04d8-46a4-9a6d-aa0e72fe1e05",
   "metadata": {},
   "outputs": [
    {
     "name": "stdout",
     "output_type": "stream",
     "text": [
      "[0. 0. 0. 0. 0.]\n"
     ]
    }
   ],
   "source": [
    "arr_zero = np.zeros(5)\n",
    "print(arr_zero)"
   ]
  },
  {
   "cell_type": "code",
   "execution_count": 11,
   "id": "15f72cad-e118-492c-9910-101cbf9eec08",
   "metadata": {},
   "outputs": [
    {
     "name": "stdout",
     "output_type": "stream",
     "text": [
      "[[0. 0. 0. 0.]\n",
      " [0. 0. 0. 0.]\n",
      " [0. 0. 0. 0.]]\n"
     ]
    }
   ],
   "source": [
    "arr_zero1 = np.zeros((3,4))\n",
    "print(arr_zero1)"
   ]
  },
  {
   "cell_type": "code",
   "execution_count": 12,
   "id": "4ca699b4-44ff-488b-817a-46876b14457f",
   "metadata": {},
   "outputs": [
    {
     "name": "stdout",
     "output_type": "stream",
     "text": [
      "[[[0. 0. 0. 0.]\n",
      "  [0. 0. 0. 0.]\n",
      "  [0. 0. 0. 0.]]\n",
      "\n",
      " [[0. 0. 0. 0.]\n",
      "  [0. 0. 0. 0.]\n",
      "  [0. 0. 0. 0.]]\n",
      "\n",
      " [[0. 0. 0. 0.]\n",
      "  [0. 0. 0. 0.]\n",
      "  [0. 0. 0. 0.]]]\n"
     ]
    }
   ],
   "source": [
    "arr_zero2 = np.zeros((3,3,4))\n",
    "print(arr_zero2)"
   ]
  },
  {
   "cell_type": "markdown",
   "id": "9c9aee0f-06c0-4421-87b1-7d17bf868391",
   "metadata": {},
   "source": [
    "### Array filled with one"
   ]
  },
  {
   "cell_type": "code",
   "execution_count": 18,
   "id": "36d43a94-1c2c-4cc3-9e5e-7265ef433ffa",
   "metadata": {},
   "outputs": [
    {
     "name": "stdout",
     "output_type": "stream",
     "text": [
      "[1. 1. 1. 1. 1.]\n"
     ]
    }
   ],
   "source": [
    "arr_one = np.ones(5)\n",
    "print(arr_one)"
   ]
  },
  {
   "cell_type": "code",
   "execution_count": 19,
   "id": "133a228a-a368-41c8-8373-42cf0428e4c1",
   "metadata": {},
   "outputs": [
    {
     "name": "stdout",
     "output_type": "stream",
     "text": [
      "[[1. 1. 1.]\n",
      " [1. 1. 1.]]\n"
     ]
    }
   ],
   "source": [
    "arr_one1 = np.ones((2,3))\n",
    "print(arr_one1)"
   ]
  },
  {
   "cell_type": "code",
   "execution_count": 22,
   "id": "820c9216-18fc-4e32-8d01-724da4243029",
   "metadata": {},
   "outputs": [
    {
     "name": "stdout",
     "output_type": "stream",
     "text": [
      "[[[1. 1. 1.]\n",
      "  [1. 1. 1.]]\n",
      "\n",
      " [[1. 1. 1.]\n",
      "  [1. 1. 1.]]\n",
      "\n",
      " [[1. 1. 1.]\n",
      "  [1. 1. 1.]]]\n"
     ]
    }
   ],
   "source": [
    "arr_one2 = np.ones((3,2,3))\n",
    "print(arr_one2)"
   ]
  },
  {
   "cell_type": "markdown",
   "id": "9a538960-cffa-4637-9204-634eca1532a1",
   "metadata": {},
   "source": [
    "### Creating an empty array"
   ]
  },
  {
   "cell_type": "code",
   "execution_count": 23,
   "id": "17875b28-4c2c-46f4-ba09-f1561a2fbda3",
   "metadata": {},
   "outputs": [
    {
     "name": "stdout",
     "output_type": "stream",
     "text": [
      "[1. 1. 1. 1. 1.]\n"
     ]
    }
   ],
   "source": [
    "arr_em = np.empty(5)\n",
    "print(arr_em)"
   ]
  },
  {
   "cell_type": "markdown",
   "id": "42dcedbd-9b6b-4301-809a-d2aafaa414e7",
   "metadata": {},
   "source": [
    "### Array with a range of elements"
   ]
  },
  {
   "cell_type": "code",
   "execution_count": 24,
   "id": "b7c7453d-667d-4e3e-bfc8-9d80ab3b1694",
   "metadata": {},
   "outputs": [
    {
     "name": "stdout",
     "output_type": "stream",
     "text": [
      "[0 1 2 3 4]\n"
     ]
    }
   ],
   "source": [
    "arr_rn = np.arange(5)\n",
    "print(arr_rn)"
   ]
  },
  {
   "cell_type": "markdown",
   "id": "e294b22a-3ef3-4a03-ae9a-d352ee06faa8",
   "metadata": {},
   "source": [
    "### Diagonal elements filled with one"
   ]
  },
  {
   "cell_type": "code",
   "execution_count": 25,
   "id": "1235349b-5796-486d-ba71-605fbd13e38c",
   "metadata": {},
   "outputs": [
    {
     "name": "stdout",
     "output_type": "stream",
     "text": [
      "[[1. 0. 0.]\n",
      " [0. 1. 0.]\n",
      " [0. 0. 1.]]\n"
     ]
    }
   ],
   "source": [
    "arr_diag = np.eye(3)\n",
    "print(arr_diag)"
   ]
  },
  {
   "cell_type": "code",
   "execution_count": 30,
   "id": "a4a6a345-502f-4c89-85b4-253f2750094d",
   "metadata": {},
   "outputs": [
    {
     "name": "stdout",
     "output_type": "stream",
     "text": [
      "[[1. 0. 0. 0. 0.]\n",
      " [0. 1. 0. 0. 0.]\n",
      " [0. 0. 1. 0. 0.]\n",
      " [0. 0. 0. 1. 0.]\n",
      " [0. 0. 0. 0. 1.]]\n"
     ]
    }
   ],
   "source": [
    "arr_diag1 = np.eye(5,5)\n",
    "print(arr_diag1)"
   ]
  },
  {
   "cell_type": "markdown",
   "id": "8bf99d4f-4520-470e-a26f-b4b752769ce3",
   "metadata": {},
   "source": [
    "### Array with values separated in a specified interval"
   ]
  },
  {
   "cell_type": "code",
   "execution_count": 36,
   "id": "d1b3e009-22f9-4857-9609-5a56c2cd6620",
   "metadata": {},
   "outputs": [
    {
     "name": "stdout",
     "output_type": "stream",
     "text": [
      "[10.  12.5 15.  17.5 20. ]\n"
     ]
    }
   ],
   "source": [
    "arr_lin = np.linspace(10, 20, num=5)\n",
    "print(arr_lin)"
   ]
  }
 ],
 "metadata": {
  "kernelspec": {
   "display_name": "Python 3 (ipykernel)",
   "language": "python",
   "name": "python3"
  },
  "language_info": {
   "codemirror_mode": {
    "name": "ipython",
    "version": 3
   },
   "file_extension": ".py",
   "mimetype": "text/x-python",
   "name": "python",
   "nbconvert_exporter": "python",
   "pygments_lexer": "ipython3",
   "version": "3.10.10"
  }
 },
 "nbformat": 4,
 "nbformat_minor": 5
}
