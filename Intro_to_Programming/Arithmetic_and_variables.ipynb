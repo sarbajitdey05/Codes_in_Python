{
 "cells": [
  {
   "cell_type": "markdown",
   "id": "46c9f485-7d0d-449c-bd6e-34763b86b95c",
   "metadata": {},
   "source": [
    "### Printing"
   ]
  },
  {
   "cell_type": "code",
   "execution_count": 1,
   "id": "b842cac0-c985-4728-9f24-a6529fc149c5",
   "metadata": {},
   "outputs": [
    {
     "name": "stdout",
     "output_type": "stream",
     "text": [
      "Hello, Learner!\n"
     ]
    }
   ],
   "source": [
    "print(\"Hello, Learner!\")"
   ]
  },
  {
   "cell_type": "code",
   "execution_count": 5,
   "id": "a4304148-1869-4dde-ab2f-d1aed1006263",
   "metadata": {},
   "outputs": [
    {
     "name": "stdout",
     "output_type": "stream",
     "text": [
      "Addition:  9\n",
      "Subtraction:  7\n",
      "Multiplication:  12\n",
      "Division:  5\n",
      "Exponent:  16\n"
     ]
    }
   ],
   "source": [
    "print(\"Addition: \", 5+4)\n",
    "print(\"Subtraction: \", 9-2)\n",
    "print(\"Multiplication: \", 3*4)\n",
    "print(\"Division: \", 15//3)\n",
    "print(\"Exponent: \", 2**4)"
   ]
  },
  {
   "cell_type": "markdown",
   "id": "0a19e746-3c49-4db1-97a2-a1581b376439",
   "metadata": {},
   "source": [
    "### Order of operations with parentheses"
   ]
  },
  {
   "cell_type": "code",
   "execution_count": 7,
   "id": "c99b5db5-2ba3-4882-80ec-97c24f00f941",
   "metadata": {},
   "outputs": [
    {
     "name": "stdout",
     "output_type": "stream",
     "text": [
      "The output is:  256\n"
     ]
    }
   ],
   "source": [
    "print(\"The output is: \", ((1+7)*(6-2)//2)**2)"
   ]
  },
  {
   "cell_type": "markdown",
   "id": "8c5567b7-2458-48f9-950c-7b1f3fedbf9e",
   "metadata": {},
   "source": [
    "### Creating variables and assigning values"
   ]
  },
  {
   "cell_type": "code",
   "execution_count": 9,
   "id": "e82fe8b2-d556-4a15-aea4-3c7dc9fcc6cd",
   "metadata": {},
   "outputs": [
    {
     "name": "stdout",
     "output_type": "stream",
     "text": [
      "14\n"
     ]
    }
   ],
   "source": [
    "var = 9+5\n",
    "print(var)"
   ]
  },
  {
   "cell_type": "code",
   "execution_count": 13,
   "id": "ca43add5-f013-4733-8ce3-8ea85cfe3150",
   "metadata": {},
   "outputs": [
    {
     "name": "stdout",
     "output_type": "stream",
     "text": [
      "35\n",
      "Now the value is =  100\n",
      "After increasing the value =  111\n"
     ]
    }
   ],
   "source": [
    "val = 35\n",
    "print(val)\n",
    "\n",
    "val = 100 # Overriding the previous value\n",
    "print(\"Now the value is = \", val)\n",
    "\n",
    "val = val +11\n",
    "print(\"After increasing the value = \", val)"
   ]
  },
  {
   "cell_type": "code",
   "execution_count": 14,
   "id": "498101fc-929d-4cab-a0c4-1a0f88a547c9",
   "metadata": {},
   "outputs": [
    {
     "name": "stdout",
     "output_type": "stream",
     "text": [
      "Total seconds =  126144000\n"
     ]
    }
   ],
   "source": [
    "yrs = 4\n",
    "days = 365\n",
    "hrs_per_day = 24\n",
    "mins_per_hr = 60\n",
    "secs_per_min = 60\n",
    "\n",
    "total_secs = (((yrs*days) * hrs_per_day) * mins_per_hr) * secs_per_min\n",
    "\n",
    "print(\"Total seconds = \", total_secs)"
   ]
  },
  {
   "cell_type": "code",
   "execution_count": 16,
   "id": "5fafcf0d-66ed-4332-a33b-e1ade07f1c56",
   "metadata": {},
   "outputs": [
    {
     "name": "stdout",
     "output_type": "stream",
     "text": [
      "Total seconds =  126230400.0\n"
     ]
    }
   ],
   "source": [
    "yrs = 4\n",
    "days = 365.25 # In case of leap year\n",
    "hrs_per_day = 24\n",
    "mins_per_hr = 60\n",
    "secs_per_min = 60\n",
    "\n",
    "total_secs = (((yrs*days) * hrs_per_day) * mins_per_hr) * secs_per_min\n",
    "\n",
    "print(\"Total seconds = \", total_secs)"
   ]
  }
 ],
 "metadata": {
  "kernelspec": {
   "display_name": "Python 3 (ipykernel)",
   "language": "python",
   "name": "python3"
  },
  "language_info": {
   "codemirror_mode": {
    "name": "ipython",
    "version": 3
   },
   "file_extension": ".py",
   "mimetype": "text/x-python",
   "name": "python",
   "nbconvert_exporter": "python",
   "pygments_lexer": "ipython3",
   "version": "3.10.10"
  }
 },
 "nbformat": 4,
 "nbformat_minor": 5
}
