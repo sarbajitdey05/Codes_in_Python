{
 "cells": [
  {
   "cell_type": "code",
   "execution_count": 1,
   "id": "675f7ed0-61cd-4184-92d3-2c65ef5d726a",
   "metadata": {},
   "outputs": [
    {
     "name": "stdout",
     "output_type": "stream",
     "text": [
      "<class 'list'>\n",
      "['pink primrose', 'hard-leaved pocket orchid', 'canterbury bells', 'sweet pea', 'english marigold', 'tiger lily', 'globe thistle']\n"
     ]
    }
   ],
   "source": [
    "flowers_list = [\"pink primrose\", \"hard-leaved pocket orchid\", \"canterbury bells\", \"sweet pea\", \"english marigold\", \"tiger lily\", \"globe thistle\"]\n",
    "\n",
    "print(type(flowers_list))\n",
    "print(flowers_list)"
   ]
  },
  {
   "cell_type": "code",
   "execution_count": 2,
   "id": "e99330a8-a6d6-4d33-a748-e2421ae7c5d5",
   "metadata": {},
   "outputs": [
    {
     "name": "stdout",
     "output_type": "stream",
     "text": [
      "7\n"
     ]
    }
   ],
   "source": [
    "# Length of the list\n",
    "print(len(flowers_list))"
   ]
  },
  {
   "cell_type": "code",
   "execution_count": 3,
   "id": "6fe686af-a271-4c41-8e77-69653d1f85cb",
   "metadata": {},
   "outputs": [
    {
     "name": "stdout",
     "output_type": "stream",
     "text": [
      "First entry: pink primrose\n",
      "Second entry: hard-leaved pocket orchid\n",
      "Last entry: globe thistle\n"
     ]
    }
   ],
   "source": [
    "# Indexing\n",
    "print(\"First entry:\", flowers_list[0])\n",
    "print(\"Second entry:\", flowers_list[1])\n",
    "\n",
    "# The list has length seven, so we refer to final entry with 6\n",
    "print(\"Last entry:\", flowers_list[6])"
   ]
  },
  {
   "cell_type": "code",
   "execution_count": 4,
   "id": "8f562605-793d-40d7-b841-f765188aa658",
   "metadata": {},
   "outputs": [
    {
     "name": "stdout",
     "output_type": "stream",
     "text": [
      "First three entries: ['pink primrose', 'hard-leaved pocket orchid', 'canterbury bells']\n",
      "Final two entries: ['tiger lily', 'globe thistle']\n"
     ]
    }
   ],
   "source": [
    "# Slicing\n",
    "print(\"First three entries:\", flowers_list[:3])\n",
    "print(\"Final two entries:\", flowers_list[-2:])"
   ]
  },
  {
   "cell_type": "code",
   "execution_count": 5,
   "id": "f3a1fd45-33d6-45b1-9abb-36f5ed2c042a",
   "metadata": {},
   "outputs": [
    {
     "name": "stdout",
     "output_type": "stream",
     "text": [
      "['pink primrose', 'canterbury bells', 'sweet pea', 'english marigold', 'tiger lily', 'globe thistle']\n"
     ]
    }
   ],
   "source": [
    "# Removing items\n",
    "flowers_list.remove(\"hard-leaved pocket orchid\")\n",
    "print(flowers_list)"
   ]
  },
  {
   "cell_type": "code",
   "execution_count": 6,
   "id": "b35b3a1a-44a1-4d64-b0b5-0f79ef618e53",
   "metadata": {},
   "outputs": [
    {
     "name": "stdout",
     "output_type": "stream",
     "text": [
      "['pink primrose', 'canterbury bells', 'sweet pea', 'english marigold', 'tiger lily', 'globe thistle', 'snapdragon']\n"
     ]
    }
   ],
   "source": [
    "# Adding items\n",
    "flowers_list.append(\"snapdragon\")\n",
    "print(flowers_list)"
   ]
  },
  {
   "cell_type": "code",
   "execution_count": 16,
   "id": "105e8022-e376-4acf-9c38-ac8ca68f8384",
   "metadata": {},
   "outputs": [
    {
     "name": "stdout",
     "output_type": "stream",
     "text": [
      "['stewed meat with onions', 'risotto with trout and shrimp', 'fish soup with cream and onion', 'gyro', 'roasted beet salad']\n"
     ]
    }
   ],
   "source": [
    "# Initial menu for your restaurant\n",
    "menu = ['stewed meat with onions', 'bean soup', 'risotto with trout and shrimp',\n",
    "       'fish soup with cream and onion', 'gyro']\n",
    "\n",
    "# remove 'bean soup', and add 'roasted beet salad' to the end of the menu\n",
    "menu.remove('bean soup')\n",
    "menu.append('roasted beet salad')\n",
    "\n",
    "print(menu)"
   ]
  },
  {
   "cell_type": "code",
   "execution_count": 7,
   "id": "dcb22b41-067e-402a-ae9e-1a2c95c81cad",
   "metadata": {},
   "outputs": [
    {
     "name": "stdout",
     "output_type": "stream",
     "text": [
      "Length of the list: 7\n",
      "Entry at index 2: 168\n"
     ]
    }
   ],
   "source": [
    "sales = [139, 191, 168, 170, 128, 172, 139]\n",
    "\n",
    "print(\"Length of the list:\", len(sales))\n",
    "print(\"Entry at index 2:\", sales[2])"
   ]
  },
  {
   "cell_type": "code",
   "execution_count": 8,
   "id": "437edb0d-6779-4489-97b8-df5849b36c3d",
   "metadata": {},
   "outputs": [
    {
     "name": "stdout",
     "output_type": "stream",
     "text": [
      "Minimum: 128\n",
      "Maximum: 191\n"
     ]
    }
   ],
   "source": [
    "# Min and Max\n",
    "print(\"Minimum:\", min(sales))\n",
    "print(\"Maximum:\", max(sales))"
   ]
  },
  {
   "cell_type": "code",
   "execution_count": 9,
   "id": "db54be65-bf8c-41b5-a96b-6ed8f0f11bde",
   "metadata": {},
   "outputs": [
    {
     "name": "stdout",
     "output_type": "stream",
     "text": [
      "Total number of sales: 1107\n"
     ]
    }
   ],
   "source": [
    "# Adding every item in the list\n",
    "print(\"Total number of sales:\", sum(sales))"
   ]
  },
  {
   "cell_type": "code",
   "execution_count": 10,
   "id": "96d715b4-9a08-45fe-9e9f-4674a103e383",
   "metadata": {},
   "outputs": [
    {
     "name": "stdout",
     "output_type": "stream",
     "text": [
      "Sales in first five days: 159.2\n"
     ]
    }
   ],
   "source": [
    "# Sum of first five sales and get the average\n",
    "print(\"Sales in first five days:\", sum(sales[:5])/5)"
   ]
  },
  {
   "cell_type": "markdown",
   "id": "49563c3f-22f3-4f77-a664-167b060f477b",
   "metadata": {},
   "source": [
    "### Converting a string into a list"
   ]
  },
  {
   "cell_type": "code",
   "execution_count": 11,
   "id": "29bc6679-fb0d-4fe7-9e56-d689c32f62e3",
   "metadata": {},
   "outputs": [
    {
     "name": "stdout",
     "output_type": "stream",
     "text": [
      "['pink primrose', ' canterbury bells', ' sweet pea', ' english marigold', ' tiger lily']\n"
     ]
    }
   ],
   "source": [
    "flower_list = \"pink primrose, canterbury bells, sweet pea, english marigold, tiger lily\"\n",
    "\n",
    "print(flower_list.split(\",\"))"
   ]
  },
  {
   "cell_type": "code",
   "execution_count": 18,
   "id": "ae6ef2bf-bc7c-4bc0-8015-66ba52af27db",
   "metadata": {},
   "outputs": [
    {
     "name": "stdout",
     "output_type": "stream",
     "text": [
      "['A', 'B', 'C', 'D', 'E', 'F', 'G', 'H', 'I', 'J', 'K', 'L', 'M', 'N', 'O', 'P', 'Q', 'R', 'S', 'T', 'U', 'V', 'W', 'X', 'Y', 'Z']\n",
      "['Mr. H. Potter', 'The cupboard under the Stairs', '4 Privet Drive', 'Little Whinging', 'Surrey']\n"
     ]
    }
   ],
   "source": [
    "# Define two Python strings\n",
    "alphabet = \"A.B.C.D.E.F.G.H.I.J.K.L.M.N.O.P.Q.R.S.T.U.V.W.X.Y.Z\"\n",
    "address = \"Mr. H. Potter,The cupboard under the Stairs,4 Privet Drive,Little Whinging,Surrey\"\n",
    "\n",
    "# Convert strings into Python lists\n",
    "letters = alphabet.split(\".\")\n",
    "formatted_address = address.split(\",\")\n",
    "\n",
    "print(letters)\n",
    "print(formatted_address)"
   ]
  },
  {
   "cell_type": "markdown",
   "id": "9f0fb9a8-6caa-4c5a-b047-343b0b254131",
   "metadata": {},
   "source": [
    "### List comprehension"
   ]
  },
  {
   "cell_type": "code",
   "execution_count": 19,
   "id": "d43d4b07-59d1-47ad-badd-838f6006fe67",
   "metadata": {},
   "outputs": [
    {
     "name": "stdout",
     "output_type": "stream",
     "text": [
      "[False, False, False, True, True]\n"
     ]
    }
   ],
   "source": [
    "test_ratings = [1, 2, 3, 4, 5]\n",
    "\n",
    "test_liked = [i>=4 for i in test_ratings]\n",
    "print(test_liked)"
   ]
  }
 ],
 "metadata": {
  "kernelspec": {
   "display_name": "Python 3 (ipykernel)",
   "language": "python",
   "name": "python3"
  },
  "language_info": {
   "codemirror_mode": {
    "name": "ipython",
    "version": 3
   },
   "file_extension": ".py",
   "mimetype": "text/x-python",
   "name": "python",
   "nbconvert_exporter": "python",
   "pygments_lexer": "ipython3",
   "version": "3.10.10"
  }
 },
 "nbformat": 4,
 "nbformat_minor": 5
}
