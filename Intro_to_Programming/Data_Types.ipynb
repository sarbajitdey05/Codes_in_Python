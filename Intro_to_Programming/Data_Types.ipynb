{
 "cells": [
  {
   "cell_type": "markdown",
   "id": "1febd702-1e0a-484c-86c3-79942afe053c",
   "metadata": {},
   "source": [
    "### Integers"
   ]
  },
  {
   "cell_type": "code",
   "execution_count": 2,
   "id": "cb9cc46c-8df5-43f3-8172-80b3dadff236",
   "metadata": {},
   "outputs": [
    {
     "name": "stdout",
     "output_type": "stream",
     "text": [
      "14\n",
      "<class 'int'>\n"
     ]
    }
   ],
   "source": [
    "x = 14\n",
    "print(x)\n",
    "print(type(x))"
   ]
  },
  {
   "cell_type": "markdown",
   "id": "09d4fcdf-72fa-4c8a-a305-f048f0fa2a32",
   "metadata": {},
   "source": [
    "### Floats"
   ]
  },
  {
   "cell_type": "code",
   "execution_count": 3,
   "id": "825e1db3-e5e6-47cd-8774-da81261289d4",
   "metadata": {},
   "outputs": [
    {
     "name": "stdout",
     "output_type": "stream",
     "text": [
      "3.141592653589\n",
      "<class 'float'>\n"
     ]
    }
   ],
   "source": [
    "nearly_pi = 3.141592653589\n",
    "print(nearly_pi)\n",
    "print(type(nearly_pi))"
   ]
  },
  {
   "cell_type": "code",
   "execution_count": 4,
   "id": "78d45d0a-64cb-4817-993f-c7d4d1bc0856",
   "metadata": {},
   "outputs": [
    {
     "name": "stdout",
     "output_type": "stream",
     "text": [
      "3.142857142857143\n",
      "<class 'float'>\n"
     ]
    }
   ],
   "source": [
    "almost_pi = 22/7\n",
    "print(almost_pi)\n",
    "print(type(almost_pi))"
   ]
  },
  {
   "cell_type": "code",
   "execution_count": 5,
   "id": "6080127c-a6dd-444c-b463-6b6a9be92f4c",
   "metadata": {},
   "outputs": [
    {
     "name": "stdout",
     "output_type": "stream",
     "text": [
      "3.1429\n",
      "<class 'float'>\n"
     ]
    }
   ],
   "source": [
    "# Round to 4 decimal places\n",
    "rounded_pi = round(almost_pi, 4)\n",
    "print(rounded_pi)\n",
    "print(type(rounded_pi))"
   ]
  },
  {
   "cell_type": "code",
   "execution_count": 6,
   "id": "279d186a-d909-41a3-963a-326adf8c7a1f",
   "metadata": {},
   "outputs": [
    {
     "name": "stdout",
     "output_type": "stream",
     "text": [
      "<class 'float'>\n",
      "<class 'float'>\n",
      "<class 'float'>\n"
     ]
    }
   ],
   "source": [
    "y1 = 1.\n",
    "y2 = 2.0\n",
    "y3 = 3.00\n",
    "\n",
    "print(type(y1))\n",
    "print(type(y2))\n",
    "print(type(y3))"
   ]
  },
  {
   "cell_type": "code",
   "execution_count": 27,
   "id": "69365ec3-5b70-41c5-b446-9d05a21acc03",
   "metadata": {},
   "outputs": [
    {
     "name": "stdout",
     "output_type": "stream",
     "text": [
      "1.0\n",
      "<class 'float'>\n",
      "1\n",
      "<class 'int'>\n"
     ]
    }
   ],
   "source": [
    "f = 1.\n",
    "print(f)\n",
    "print(type(f))\n",
    "\n",
    "# Conversion into integer\n",
    "intgr = int(f)\n",
    "print(intgr)\n",
    "print(type(intgr))"
   ]
  },
  {
   "cell_type": "code",
   "execution_count": 28,
   "id": "03a78165-b2f0-46d3-90da-89b8bfbea07a",
   "metadata": {},
   "outputs": [
    {
     "name": "stdout",
     "output_type": "stream",
     "text": [
      "1\n",
      "-3\n"
     ]
    }
   ],
   "source": [
    "print(int(1.245))\n",
    "print(int(-3.845))"
   ]
  },
  {
   "cell_type": "markdown",
   "id": "06d674fc-d5b6-4339-9b2b-74fd93a1d1b2",
   "metadata": {},
   "source": [
    "### Booleans"
   ]
  },
  {
   "cell_type": "code",
   "execution_count": 7,
   "id": "4af461bb-8f34-4f4f-8d3e-f88763403366",
   "metadata": {},
   "outputs": [
    {
     "name": "stdout",
     "output_type": "stream",
     "text": [
      "True\n",
      "<class 'bool'>\n",
      "False\n",
      "<class 'bool'>\n"
     ]
    }
   ],
   "source": [
    "z1 = True\n",
    "print(z1)\n",
    "print(type(z1))\n",
    "\n",
    "z2 = False\n",
    "print(z2)\n",
    "print(type(z2))"
   ]
  },
  {
   "cell_type": "code",
   "execution_count": 10,
   "id": "559664ab-290c-4ce7-8571-2966aa9b913c",
   "metadata": {},
   "outputs": [
    {
     "name": "stdout",
     "output_type": "stream",
     "text": [
      "False\n",
      "<class 'bool'>\n",
      "True\n",
      "<class 'bool'>\n"
     ]
    }
   ],
   "source": [
    "z3 = 50<11\n",
    "print(z3)\n",
    "print(type(z3))\n",
    "\n",
    "z4 = 11<50\n",
    "print(z4)\n",
    "print(type(z4))"
   ]
  },
  {
   "cell_type": "code",
   "execution_count": 14,
   "id": "057551e6-14da-469a-941e-b04a30d7f991",
   "metadata": {},
   "outputs": [
    {
     "name": "stdout",
     "output_type": "stream",
     "text": [
      "True\n",
      "<class 'bool'>\n",
      "False\n",
      "<class 'bool'>\n"
     ]
    }
   ],
   "source": [
    "z5 = not z3\n",
    "print(z5)\n",
    "print(type(z5))\n",
    "\n",
    "z6 = not z4\n",
    "print(z6)\n",
    "print(type(z6))"
   ]
  },
  {
   "cell_type": "code",
   "execution_count": 34,
   "id": "b41144bf-5052-4703-b412-779373f93a00",
   "metadata": {},
   "outputs": [
    {
     "name": "stdout",
     "output_type": "stream",
     "text": [
      "0\n",
      "1\n",
      "2\n",
      "3\n"
     ]
    }
   ],
   "source": [
    "print(False + False)\n",
    "print(True + False)\n",
    "print(True + True)\n",
    "print(False + True + True + True + False)"
   ]
  },
  {
   "cell_type": "markdown",
   "id": "0796f2ea-a070-4164-9e43-6f24fd46837b",
   "metadata": {},
   "source": [
    "### Strings"
   ]
  },
  {
   "cell_type": "code",
   "execution_count": 15,
   "id": "8f21cc68-4818-4889-81c3-30bf7c3c8df0",
   "metadata": {},
   "outputs": [
    {
     "name": "stdout",
     "output_type": "stream",
     "text": [
      "Hello everyone!\n",
      "<class 'str'>\n"
     ]
    }
   ],
   "source": [
    "s = \"Hello everyone!\"\n",
    "print(s)\n",
    "print(type(s))"
   ]
  },
  {
   "cell_type": "code",
   "execution_count": 16,
   "id": "a022b997-a50c-47c8-8344-2d826e31d783",
   "metadata": {},
   "outputs": [
    {
     "name": "stdout",
     "output_type": "stream",
     "text": [
      "15\n"
     ]
    }
   ],
   "source": [
    "# Length of a string\n",
    "print(len(s))"
   ]
  },
  {
   "cell_type": "code",
   "execution_count": 17,
   "id": "1b27294b-3ba6-47e5-8f4a-c832f8869814",
   "metadata": {},
   "outputs": [
    {
     "name": "stdout",
     "output_type": "stream",
     "text": [
      "<class 'str'>\n",
      "0\n"
     ]
    }
   ],
   "source": [
    "# Empty string\n",
    "shortest_string = \"\"\n",
    "print(type(shortest_string))\n",
    "print(len(shortest_string))"
   ]
  },
  {
   "cell_type": "code",
   "execution_count": 19,
   "id": "0459c1a5-4f5e-49a3-be26-4d4ec24f7eeb",
   "metadata": {},
   "outputs": [
    {
     "name": "stdout",
     "output_type": "stream",
     "text": [
      "5.623\n",
      "<class 'str'>\n"
     ]
    }
   ],
   "source": [
    "num = \"5.623\"\n",
    "print(num)\n",
    "print(type(num))"
   ]
  },
  {
   "cell_type": "code",
   "execution_count": 20,
   "id": "f93c443f-c5bb-4f7f-9145-74ee4370899f",
   "metadata": {},
   "outputs": [
    {
     "name": "stdout",
     "output_type": "stream",
     "text": [
      "5.623\n",
      "<class 'float'>\n"
     ]
    }
   ],
   "source": [
    "num_1 = float(num)\n",
    "print(num_1)\n",
    "print(type(num_1))"
   ]
  },
  {
   "cell_type": "code",
   "execution_count": 23,
   "id": "8618e497-b159-4919-8739-9046f72c7bbe",
   "metadata": {},
   "outputs": [
    {
     "name": "stdout",
     "output_type": "stream",
     "text": [
      "I love Youtube\n",
      "<class 'str'>\n"
     ]
    }
   ],
   "source": [
    "new_string = \"I love\" + \" Youtube\"\n",
    "print(new_string)\n",
    "print(type(new_string))"
   ]
  },
  {
   "cell_type": "code",
   "execution_count": 26,
   "id": "3fb71371-4e08-4578-945b-7a845ed32617",
   "metadata": {},
   "outputs": [
    {
     "name": "stdout",
     "output_type": "stream",
     "text": [
      " Rock n Roll Rock n Roll Rock n Roll\n",
      "<class 'str'>\n"
     ]
    }
   ],
   "source": [
    "one_string = \" Rock n Roll\" * 3 # integer value\n",
    "print(one_string)\n",
    "print(type(one_string))"
   ]
  },
  {
   "cell_type": "code",
   "execution_count": 32,
   "id": "b1ff03f9-f44c-4e09-b4ea-83968e9bf887",
   "metadata": {},
   "outputs": [
    {
     "name": "stdout",
     "output_type": "stream",
     "text": [
      "3\n",
      "0.0\n",
      "Hello\n",
      "\n"
     ]
    }
   ],
   "source": [
    "# Multiply a data type by boolean\n",
    "print(3 * True)\n",
    "print(9.45 * False)\n",
    "print(\"Hello\" * True)\n",
    "print(\"Bye\" * False)"
   ]
  }
 ],
 "metadata": {
  "kernelspec": {
   "display_name": "Python 3 (ipykernel)",
   "language": "python",
   "name": "python3"
  },
  "language_info": {
   "codemirror_mode": {
    "name": "ipython",
    "version": 3
   },
   "file_extension": ".py",
   "mimetype": "text/x-python",
   "name": "python",
   "nbconvert_exporter": "python",
   "pygments_lexer": "ipython3",
   "version": "3.10.10"
  }
 },
 "nbformat": 4,
 "nbformat_minor": 5
}
