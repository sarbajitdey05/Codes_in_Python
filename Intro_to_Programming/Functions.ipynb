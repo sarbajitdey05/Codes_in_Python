{
 "cells": [
  {
   "cell_type": "markdown",
   "id": "e1f45c6d-1288-4d66-a30e-7704ce250225",
   "metadata": {},
   "source": [
    "### Defining a function"
   ]
  },
  {
   "cell_type": "code",
   "execution_count": 1,
   "id": "148ea76b-9c10-4986-acdf-52974c8bb564",
   "metadata": {},
   "outputs": [],
   "source": [
    "def add_five(var):\n",
    "    output_val = var+5\n",
    "    return output_val"
   ]
  },
  {
   "cell_type": "code",
   "execution_count": 4,
   "id": "a7cca305-72b8-4f4b-881e-6392597765cd",
   "metadata": {},
   "outputs": [
    {
     "name": "stdout",
     "output_type": "stream",
     "text": [
      "12\n"
     ]
    }
   ],
   "source": [
    "# Calling the function with 7 as input\n",
    "\n",
    "new_val = add_five(7)\n",
    "print(new_val)"
   ]
  },
  {
   "cell_type": "code",
   "execution_count": 5,
   "id": "7343e9aa-74b6-41f7-a056-12116430d169",
   "metadata": {},
   "outputs": [],
   "source": [
    "def get_pay(num_hrs):\n",
    "    pay_pretax = num_hrs * 20\n",
    "    pay_aftertax = pay_pretax * 0.88\n",
    "    return pay_aftertax"
   ]
  },
  {
   "cell_type": "code",
   "execution_count": 10,
   "id": "e1637d6f-f78c-46d1-885e-b2ec9e341693",
   "metadata": {},
   "outputs": [
    {
     "name": "stdout",
     "output_type": "stream",
     "text": [
      "1408.0\n"
     ]
    }
   ],
   "source": [
    "# Calculating the payment based on working 80 hours\n",
    "\n",
    "final_payment = get_pay(80)\n",
    "print(final_payment)"
   ]
  },
  {
   "cell_type": "code",
   "execution_count": 11,
   "id": "b71b1850-e9c3-46f0-8d3e-abffa11cf0d4",
   "metadata": {},
   "outputs": [
    {
     "name": "stdout",
     "output_type": "stream",
     "text": [
      "563.2\n"
     ]
    }
   ],
   "source": [
    "# Calculating the payment based on working 30 hours\n",
    "\n",
    "final_payment = get_pay(32)\n",
    "print(final_payment)"
   ]
  },
  {
   "cell_type": "markdown",
   "id": "f8c7f9ec-1d0e-4b74-9cf8-fcd88dd27d7b",
   "metadata": {},
   "source": [
    "### Functions with multiple arguments"
   ]
  },
  {
   "cell_type": "code",
   "execution_count": 12,
   "id": "0b21a421-4f3f-434d-baa3-3b93b746ea43",
   "metadata": {},
   "outputs": [],
   "source": [
    "def get_pay_with_more_inputs(hrs, hourly_wage, tax_bracket):\n",
    "    pay_pretax = hrs * hourly_wage\n",
    "    pay_aftertax = pay_pretax * (1 - tax_bracket)\n",
    "    return pay_aftertax"
   ]
  },
  {
   "cell_type": "code",
   "execution_count": 17,
   "id": "5f23c925-7b82-4e33-9b40-8c925952d1a7",
   "metadata": {},
   "outputs": [
    {
     "name": "stdout",
     "output_type": "stream",
     "text": [
      "1376.0\n"
     ]
    }
   ],
   "source": [
    "# Calculate payment for someone who works for 80 hours, makes $20/hr, and is in a 14% tax bracket\n",
    "\n",
    "payment = get_pay_with_more_inputs(80,20,.14)\n",
    "print(payment)"
   ]
  },
  {
   "cell_type": "code",
   "execution_count": 26,
   "id": "637970f4-e315-4399-b785-5950cb20a42c",
   "metadata": {},
   "outputs": [],
   "source": [
    "def get_expected_cost(beds, baths):\n",
    "    expected_cost = 80000\n",
    "    total_cost = expected_cost + (30000 * beds) + (10000 * baths)\n",
    "    return total_cost"
   ]
  },
  {
   "cell_type": "code",
   "execution_count": 25,
   "id": "c524d40d-88ce-4c35-a93b-cce0905c6178",
   "metadata": {},
   "outputs": [
    {
     "name": "stdout",
     "output_type": "stream",
     "text": [
      "120000\n",
      "150000\n"
     ]
    }
   ],
   "source": [
    "# Calculate cost of a house with 1 bedroom and 1 bathroom\n",
    "print(get_expected_cost(1,1))\n",
    "\n",
    "# Calculate cost of a house with 2 bedrooms and 1 bathroom\n",
    "print(get_expected_cost(2,1))"
   ]
  },
  {
   "cell_type": "code",
   "execution_count": 27,
   "id": "1123de8e-c20a-4c46-93a4-9d3e76841b70",
   "metadata": {},
   "outputs": [
    {
     "name": "stdout",
     "output_type": "stream",
     "text": [
      "170000\n",
      "190000\n",
      "200000\n",
      "210000\n"
     ]
    }
   ],
   "source": [
    "# Calculate cost of a houses\n",
    "option_1 = get_expected_cost(2,3) # 2 bedrooms and 3 bathrooms\n",
    "print(option_1)\n",
    "\n",
    "option_2 = get_expected_cost(3,2) # 3 bedrooms and 2 bathrooms\n",
    "print(option_2)\n",
    "\n",
    "option_3 = get_expected_cost(3,3) # 3 bedrooms and 3 bathrooms\n",
    "print(option_3)\n",
    "\n",
    "option_4 = get_expected_cost(3,4) # 3 bedrooms and 4 bathrooms\n",
    "print(option_4)"
   ]
  },
  {
   "cell_type": "code",
   "execution_count": 28,
   "id": "0b9c2af0-ff4f-49a5-857a-873b20cea6bc",
   "metadata": {},
   "outputs": [],
   "source": [
    "def get_cost(sqft_walls, sqft_ceiling, sqft_per_gallon, cost_per_gallon):\n",
    "    cost = ((sqft_walls+sqft_ceiling)/sqft_per_gallon)*cost_per_gallon\n",
    "    return cost"
   ]
  },
  {
   "cell_type": "code",
   "execution_count": 32,
   "id": "3e24b4f7-4055-4a8e-a140-54a9faeef1d4",
   "metadata": {},
   "outputs": [
    {
     "name": "stdout",
     "output_type": "stream",
     "text": [
      "21.599999999999998\n"
     ]
    }
   ],
   "source": [
    "# Cost of applying one coat of paint to a room\n",
    "\n",
    "project_cost = get_cost(432,144,400,15)\n",
    "print(project_cost)"
   ]
  },
  {
   "cell_type": "code",
   "execution_count": 37,
   "id": "a783df49-414e-4293-b3d1-80f065b4569e",
   "metadata": {},
   "outputs": [],
   "source": [
    "import math\n",
    "def get_actual_cost(sqft_walls, sqft_ceiling, sqft_per_gallon, cost_per_gallon):\n",
    "    cost = math.ceil((sqft_walls+sqft_ceiling)/sqft_per_gallon)*cost_per_gallon\n",
    "    return cost"
   ]
  },
  {
   "cell_type": "code",
   "execution_count": 39,
   "id": "be2a8e06-0c48-483a-8216-0792c05f085f",
   "metadata": {},
   "outputs": [
    {
     "name": "stdout",
     "output_type": "stream",
     "text": [
      "45\n"
     ]
    }
   ],
   "source": [
    "# Actual cost of applying one coat of paint to a room\n",
    "\n",
    "actual_project_cost = get_cost(594, 288, 400, 15)\n",
    "print(actual_project_cost)"
   ]
  },
  {
   "cell_type": "markdown",
   "id": "14e1f300-ba06-4901-a50a-f54a77fe6fe0",
   "metadata": {},
   "source": [
    "### Functions with no arguments"
   ]
  },
  {
   "cell_type": "code",
   "execution_count": 18,
   "id": "b65a363a-1011-4f35-9c53-cb7447b6f5bd",
   "metadata": {},
   "outputs": [],
   "source": [
    "def print_hey():\n",
    "    print(\"Good day everyone!\")\n",
    "    print(\"How are you doing today?\")"
   ]
  },
  {
   "cell_type": "code",
   "execution_count": 19,
   "id": "089568b9-6a45-441c-88ab-6515b2dbc721",
   "metadata": {},
   "outputs": [
    {
     "name": "stdout",
     "output_type": "stream",
     "text": [
      "Good day everyone!\n",
      "How are you doing today?\n"
     ]
    }
   ],
   "source": [
    "# Calling the function\n",
    "\n",
    "print_hey()"
   ]
  }
 ],
 "metadata": {
  "kernelspec": {
   "display_name": "Python 3 (ipykernel)",
   "language": "python",
   "name": "python3"
  },
  "language_info": {
   "codemirror_mode": {
    "name": "ipython",
    "version": 3
   },
   "file_extension": ".py",
   "mimetype": "text/x-python",
   "name": "python",
   "nbconvert_exporter": "python",
   "pygments_lexer": "ipython3",
   "version": "3.10.10"
  }
 },
 "nbformat": 4,
 "nbformat_minor": 5
}
