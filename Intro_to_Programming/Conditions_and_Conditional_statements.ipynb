{
 "cells": [
  {
   "cell_type": "code",
   "execution_count": 1,
   "id": "413bd20e-32f6-4ae7-b10a-3ff573282bcd",
   "metadata": {},
   "outputs": [
    {
     "name": "stdout",
     "output_type": "stream",
     "text": [
      "False\n"
     ]
    }
   ],
   "source": [
    "print(5>9)"
   ]
  },
  {
   "cell_type": "code",
   "execution_count": 3,
   "id": "dfb7f12a-0880-413c-ba75-b6cc23b437db",
   "metadata": {},
   "outputs": [
    {
     "name": "stdout",
     "output_type": "stream",
     "text": [
      "False\n",
      "True\n"
     ]
    }
   ],
   "source": [
    "var_1 = 10\n",
    "var_2 = 20\n",
    "\n",
    "print(var_1 < 10)\n",
    "print(var_2 >= var_1)"
   ]
  },
  {
   "cell_type": "markdown",
   "id": "a04a4c9d-37be-40b6-8e69-fe5b935022b4",
   "metadata": {},
   "source": [
    "### \"if\" statements"
   ]
  },
  {
   "cell_type": "code",
   "execution_count": 4,
   "id": "5bbec688-9db2-4887-9c59-943970c3364a",
   "metadata": {},
   "outputs": [],
   "source": [
    "def evaluate_temp(temp):\n",
    "    display = \"Normal Temperature\"\n",
    "    if temp>38:\n",
    "        display = \"FEVER!!!\"\n",
    "    return display"
   ]
  },
  {
   "cell_type": "code",
   "execution_count": 5,
   "id": "6d11ed46-1acb-435b-8cdc-7bd7d25b44be",
   "metadata": {},
   "outputs": [
    {
     "name": "stdout",
     "output_type": "stream",
     "text": [
      "Normal Temperature\n"
     ]
    }
   ],
   "source": [
    "# Calling the function\n",
    "print(evaluate_temp(36))"
   ]
  },
  {
   "cell_type": "code",
   "execution_count": 6,
   "id": "bfa21b06-5286-4508-8567-9aecc75cdb67",
   "metadata": {},
   "outputs": [
    {
     "name": "stdout",
     "output_type": "stream",
     "text": [
      "FEVER!!!\n"
     ]
    }
   ],
   "source": [
    "# Calling the function\n",
    "print(evaluate_temp(39))"
   ]
  },
  {
   "cell_type": "markdown",
   "id": "6883cfc2-0e2a-4604-a04f-fabb5838ec7e",
   "metadata": {},
   "source": [
    "### \"if...else\" statements"
   ]
  },
  {
   "cell_type": "code",
   "execution_count": 7,
   "id": "2942c8e8-54d9-4e74-b5da-28dc50fc7997",
   "metadata": {},
   "outputs": [],
   "source": [
    "def evaluate_temp_with_else(temp):\n",
    "    if temp>38:\n",
    "        display = \"FEVER!!!\"\n",
    "    else:\n",
    "        display = \"Normal temperature.\"\n",
    "    return display"
   ]
  },
  {
   "cell_type": "code",
   "execution_count": 8,
   "id": "b7eef4da-fc38-45b1-894a-c1f4b4d99aec",
   "metadata": {},
   "outputs": [
    {
     "name": "stdout",
     "output_type": "stream",
     "text": [
      "Normal temperature.\n"
     ]
    }
   ],
   "source": [
    "# Calling the function\n",
    "print(evaluate_temp_with_else(37))"
   ]
  },
  {
   "cell_type": "markdown",
   "id": "0d3200f8-072b-4d83-8404-16a42a71b6b3",
   "metadata": {},
   "source": [
    "### \"if...elif...else\" statements"
   ]
  },
  {
   "cell_type": "code",
   "execution_count": 9,
   "id": "dad60706-cd63-4a44-ab6c-3b8eaf15e75b",
   "metadata": {},
   "outputs": [],
   "source": [
    "def evaluate_temp_with_elif(temp):\n",
    "    if temp>38:\n",
    "        display = \"FEVER!!!\"\n",
    "    elif temp>35:\n",
    "        display = \"Normal temperature.\"\n",
    "    else:\n",
    "        display = \"Low temperature.\"\n",
    "    return display"
   ]
  },
  {
   "cell_type": "code",
   "execution_count": 12,
   "id": "5ccc5108-7d3d-457b-b8ed-b644a94a77c3",
   "metadata": {},
   "outputs": [
    {
     "name": "stdout",
     "output_type": "stream",
     "text": [
      "Normal temperature.\n"
     ]
    }
   ],
   "source": [
    "# Calling the function\n",
    "print(evaluate_temp_with_elif(36))"
   ]
  },
  {
   "cell_type": "code",
   "execution_count": 13,
   "id": "100dc6e5-3b3e-4e27-89f3-e44e82c3821d",
   "metadata": {},
   "outputs": [
    {
     "name": "stdout",
     "output_type": "stream",
     "text": [
      "Low temperature.\n"
     ]
    }
   ],
   "source": [
    "print(evaluate_temp_with_elif(34))"
   ]
  },
  {
   "cell_type": "markdown",
   "id": "5b5a271f-40c0-48a6-85d0-e38b9d47a7bd",
   "metadata": {},
   "source": [
    "### Examples"
   ]
  },
  {
   "cell_type": "code",
   "execution_count": 14,
   "id": "94ea8f64-fd5b-4f0c-a821-b056f9b5034a",
   "metadata": {},
   "outputs": [],
   "source": [
    "def get_taxes(earnings):\n",
    "    if earnings < 120000:\n",
    "        tax_owed = earnings * .15\n",
    "    else:\n",
    "        tax_owed = earnings * .25\n",
    "    return tax_owed"
   ]
  },
  {
   "cell_type": "code",
   "execution_count": 15,
   "id": "6d7140f1-220a-4da4-9244-ebcfd1786e37",
   "metadata": {},
   "outputs": [
    {
     "name": "stdout",
     "output_type": "stream",
     "text": [
      "13500.0\n",
      "45000.0\n"
     ]
    }
   ],
   "source": [
    "# Calling the function\n",
    "John_taxes = get_taxes(90000)\n",
    "Bobby_taxes = get_taxes(180000)\n",
    "\n",
    "print(John_taxes)\n",
    "print(Bobby_taxes)"
   ]
  },
  {
   "cell_type": "code",
   "execution_count": 16,
   "id": "fc027257-2775-4e93-908c-46c758f13d77",
   "metadata": {},
   "outputs": [],
   "source": [
    "def add_three_or_eight(number):\n",
    "    if number<10:\n",
    "        output = number + 3\n",
    "    else:\n",
    "        output = number + 8\n",
    "    return output"
   ]
  },
  {
   "cell_type": "code",
   "execution_count": 20,
   "id": "92a32656-73ef-453f-99e6-9e592da567aa",
   "metadata": {},
   "outputs": [
    {
     "name": "stdout",
     "output_type": "stream",
     "text": [
      "10\n",
      "19\n"
     ]
    }
   ],
   "source": [
    "# Calling the function\n",
    "print(add_three_or_eight(7))\n",
    "print(add_three_or_eight(11))"
   ]
  },
  {
   "cell_type": "markdown",
   "id": "5e224694-f5f0-416f-9b52-06c4132bcda8",
   "metadata": {},
   "source": [
    "### Multiple \"elif\" statements"
   ]
  },
  {
   "cell_type": "code",
   "execution_count": 21,
   "id": "0a1df06c-fd76-4d97-889b-ae8ebbe5e9a5",
   "metadata": {},
   "outputs": [],
   "source": [
    "def get_dose(weight):\n",
    "    if weight < 5.5:\n",
    "        dose = 1.5\n",
    "    elif weight < 7.5:\n",
    "        dose = 2.5\n",
    "    elif weight < 10.5:\n",
    "        dose = 3.5\n",
    "    elif weight < 15.5:\n",
    "        dose = 4\n",
    "    elif weight < 20.0:\n",
    "        dose = 5.5\n",
    "    else:\n",
    "        dose = 7.5\n",
    "    return dose"
   ]
  },
  {
   "cell_type": "code",
   "execution_count": 24,
   "id": "392c38da-a688-41bc-b998-86a702beefa7",
   "metadata": {},
   "outputs": [
    {
     "name": "stdout",
     "output_type": "stream",
     "text": [
      "3.5\n",
      "5.5\n",
      "7.5\n"
     ]
    }
   ],
   "source": [
    "# Calling the function\n",
    "print(get_dose(8.0))\n",
    "print(get_dose(17.8))\n",
    "print(get_dose(21))"
   ]
  },
  {
   "cell_type": "code",
   "execution_count": 25,
   "id": "4fa5dd46-7bb0-41f0-a9ab-615615a6ed81",
   "metadata": {},
   "outputs": [],
   "source": [
    "# Correct grade for different scores\n",
    "def get_grade(score):\n",
    "    if score >=90:\n",
    "        grade = \"A\"\n",
    "    elif score >=80 and score<=89:\n",
    "        grade = \"B\"\n",
    "    elif score >=70 and score<=79:\n",
    "        grade = \"C\"\n",
    "    elif score >=60 and score<=69:\n",
    "        grade = \"D\"\n",
    "    else:\n",
    "        grade = \"F\"\n",
    "    return grade"
   ]
  },
  {
   "cell_type": "code",
   "execution_count": 26,
   "id": "46d914a3-e347-4538-ae90-19ef2eee01ac",
   "metadata": {},
   "outputs": [
    {
     "name": "stdout",
     "output_type": "stream",
     "text": [
      "B\n",
      "F\n"
     ]
    }
   ],
   "source": [
    "David_scored = get_grade(85)\n",
    "Sam_scored = get_grade(49)\n",
    "\n",
    "print(David_scored)\n",
    "print(Sam_scored)"
   ]
  }
 ],
 "metadata": {
  "kernelspec": {
   "display_name": "Python 3 (ipykernel)",
   "language": "python",
   "name": "python3"
  },
  "language_info": {
   "codemirror_mode": {
    "name": "ipython",
    "version": 3
   },
   "file_extension": ".py",
   "mimetype": "text/x-python",
   "name": "python",
   "nbconvert_exporter": "python",
   "pygments_lexer": "ipython3",
   "version": "3.10.10"
  }
 },
 "nbformat": 4,
 "nbformat_minor": 5
}
